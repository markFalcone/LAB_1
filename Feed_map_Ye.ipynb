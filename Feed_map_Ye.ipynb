{
 "cells": [
  {
   "cell_type": "code",
   "execution_count": 1,
   "id": "26812f3b",
   "metadata": {},
   "outputs": [],
   "source": [
    "import matplotlib.pyplot as plt\n",
    "import numpy as np"
   ]
  },
  {
   "cell_type": "code",
   "execution_count": null,
   "id": "405b8ebd",
   "metadata": {},
   "outputs": [],
   "source": [
    "# This is the script using the toy routing map for navigation\n",
    "# After the ultrosonic scanning and the A_star route finding, you should have a map similar to this toy map that highlights the \n",
    "# path in 1 and the rest in 0 in a squared matrix (numpy array)"
   ]
  },
  {
   "cell_type": "code",
   "execution_count": 64,
   "id": "f831f225",
   "metadata": {},
   "outputs": [
    {
     "data": {
      "text/plain": [
       "<matplotlib.image.AxesImage at 0x265b70966a0>"
      ]
     },
     "execution_count": 64,
     "metadata": {},
     "output_type": "execute_result"
    },
    {
     "data": {
      "image/png": "[encoded data removed]",
      "text/plain": [
       "<Figure size 288x288 with 1 Axes>"
      ]
     },
     "metadata": {
      "needs_background": "light"
     },
     "output_type": "display_data"
    }
   ],
   "source": [
    "# Build a toy map\n",
    "maze = np.zeros([100,100])\n",
    "maze[50,:30]=1\n",
    "maze[50:70, 30]=1\n",
    "maze[70,30:80]=1\n",
    "plt.matshow(maze)"
   ]
  },
  {
   "cell_type": "code",
   "execution_count": 65,
   "id": "15e34fc3",
   "metadata": {},
   "outputs": [
    {
     "name": "stdout",
     "output_type": "stream",
     "text": [
      "[[50  0]\n",
      " [50  1]\n",
      " [50  2]\n",
      " [50  3]\n",
      " [50  4]\n",
      " [50  5]\n",
      " [50  6]\n",
      " [50  7]\n",
      " [50  8]\n",
      " [50  9]\n",
      " [50 10]\n",
      " [50 11]\n",
      " [50 12]\n",
      " [50 13]\n",
      " [50 14]\n",
      " [50 15]\n",
      " [50 16]\n",
      " [50 17]\n",
      " [50 18]\n",
      " [50 19]\n",
      " [50 20]\n",
      " [50 21]\n",
      " [50 22]\n",
      " [50 23]\n",
      " [50 24]\n",
      " [50 25]\n",
      " [50 26]\n",
      " [50 27]\n",
      " [50 28]\n",
      " [50 29]\n",
      " [50 30]\n",
      " [51 30]\n",
      " [52 30]\n",
      " [53 30]\n",
      " [54 30]\n",
      " [55 30]\n",
      " [56 30]\n",
      " [57 30]\n",
      " [58 30]\n",
      " [59 30]\n",
      " [60 30]\n",
      " [61 30]\n",
      " [62 30]\n",
      " [63 30]\n",
      " [64 30]\n",
      " [65 30]\n",
      " [66 30]\n",
      " [67 30]\n",
      " [68 30]\n",
      " [69 30]\n",
      " [70 30]\n",
      " [70 31]\n",
      " [70 32]\n",
      " [70 33]\n",
      " [70 34]\n",
      " [70 35]\n",
      " [70 36]\n",
      " [70 37]\n",
      " [70 38]\n",
      " [70 39]\n",
      " [70 40]\n",
      " [70 41]\n",
      " [70 42]\n",
      " [70 43]\n",
      " [70 44]\n",
      " [70 45]\n",
      " [70 46]\n",
      " [70 47]\n",
      " [70 48]\n",
      " [70 49]\n",
      " [70 50]\n",
      " [70 51]\n",
      " [70 52]\n",
      " [70 53]\n",
      " [70 54]\n",
      " [70 55]\n",
      " [70 56]\n",
      " [70 57]\n",
      " [70 58]\n",
      " [70 59]\n",
      " [70 60]\n",
      " [70 61]\n",
      " [70 62]\n",
      " [70 63]\n",
      " [70 64]\n",
      " [70 65]\n",
      " [70 66]\n",
      " [70 67]\n",
      " [70 68]\n",
      " [70 69]\n",
      " [70 70]\n",
      " [70 71]\n",
      " [70 72]\n",
      " [70 73]\n",
      " [70 74]\n",
      " [70 75]\n",
      " [70 76]\n",
      " [70 77]\n",
      " [70 78]\n",
      " [70 79]]\n"
     ]
    }
   ],
   "source": [
    "# Find out the path in the toy map\n",
    "path_arr = np.stack((np.where(maze==1)[0], np.where(maze==1)[1]), axis = 1)\n",
    "path_list = path_arr.tolist()\n",
    "print(path_arr)"
   ]
  },
  {
   "cell_type": "code",
   "execution_count": 51,
   "id": "16d99bb8",
   "metadata": {},
   "outputs": [],
   "source": [
    "# Scheme of navigation \n",
    "# 1. Give move instruction to the car, move_forward, turn_left or turn_right \n",
    "#    based on the location in the path and the current position of the car\n",
    "# 2. Once the car reaches the \"turning\" position, the map and path will be updated \n",
    "#    by fliping horizontally followed by transpose. \n",
    "#    In this way, the relative moving direction of the car will be always horizontal \n",
    "#    and the same condition used for deciding moving forwar, turning left or right won't change \n",
    "#    by the change of the car orientation. \n",
    "# 3. The visted location on the path is removed from the path list as car move along"
   ]
  },
  {
   "cell_type": "code",
   "execution_count": 66,
   "id": "ebc2832f",
   "metadata": {},
   "outputs": [],
   "source": [
    "# Functions that update maze and path\n",
    "def update_maze(maze):\n",
    "    return np.transpose(np.flip(maze,1))\n",
    "def update_location(loc):\n",
    "    loc_f = np.array([loc[0], maze.shape[1]-loc[1]])\n",
    "    loc_f_t = np.flip(loc_f)\n",
    "    return loc_f_t\n",
    "def update_path(path):\n",
    "    path_new = []\n",
    "    for loc in path:\n",
    "        loc_new = update_location(loc)\n",
    "        path_new.append(loc_new)\n",
    "    return np.array(path_new)"
   ]
  },
  {
   "cell_type": "code",
   "execution_count": 67,
   "id": "1b4f0a05",
   "metadata": {},
   "outputs": [],
   "source": [
    "def move_instruction(path_arr, maze):\n",
    "    car_pos = path_arr[0]\n",
    "    count = 0\n",
    "    for location in path_arr[1:]:\n",
    "        if (list(location - car_pos) == [0,1]) or (list(location - car_pos) == [0,-1]):\n",
    "            print(\"forward\")\n",
    "            #move_forward()\n",
    "            car_pos = location\n",
    "            count += 1\n",
    "        \n",
    "        elif list(location - car_pos) == [1,0]:\n",
    "            print(\"turn right\")\n",
    "            #move_right()\n",
    "            break\n",
    "        \n",
    "        elif list(location - car_pos) == [-1,0]:\n",
    "            #move_left()\n",
    "            print(\"turn left\")\n",
    "            break\n",
    "        \n",
    "    maze = update_maze(maze) #flip and transpose maze\n",
    "    path_arr = update_path(path_arr) #update the locations in the path accoring to the maze update\n",
    "    #car_pos = path_arr[count] #update the car_pos in the refreshed maze \n",
    "    path_arr = path_arr[count:] #remove the passed locations in the path\n",
    "    return car_pos, path_arr, maze"
   ]
  },
  {
   "cell_type": "code",
   "execution_count": 68,
   "id": "82dee407",
   "metadata": {},
   "outputs": [
    {
     "name": "stdout",
     "output_type": "stream",
     "text": [
      "forward\n",
      "forward\n",
      "forward\n",
      "forward\n",
      "forward\n",
      "forward\n",
      "forward\n",
      "forward\n",
      "forward\n",
      "forward\n",
      "forward\n",
      "forward\n",
      "forward\n",
      "forward\n",
      "forward\n",
      "forward\n",
      "forward\n",
      "forward\n",
      "forward\n",
      "forward\n",
      "forward\n",
      "forward\n",
      "forward\n",
      "forward\n",
      "forward\n",
      "forward\n",
      "forward\n",
      "forward\n",
      "forward\n",
      "forward\n",
      "turn right\n",
      "[50 30]\n",
      "forward\n",
      "forward\n",
      "forward\n",
      "forward\n",
      "forward\n",
      "forward\n",
      "forward\n",
      "forward\n",
      "forward\n",
      "forward\n",
      "forward\n",
      "forward\n",
      "forward\n",
      "forward\n",
      "forward\n",
      "forward\n",
      "forward\n",
      "forward\n",
      "forward\n",
      "forward\n",
      "turn left\n",
      "[70 70]\n",
      "forward\n",
      "forward\n",
      "forward\n",
      "forward\n",
      "forward\n",
      "forward\n",
      "forward\n",
      "forward\n",
      "forward\n",
      "forward\n",
      "forward\n",
      "forward\n",
      "forward\n",
      "forward\n",
      "forward\n",
      "forward\n",
      "forward\n",
      "forward\n",
      "forward\n",
      "forward\n",
      "forward\n",
      "forward\n",
      "forward\n",
      "forward\n",
      "forward\n",
      "forward\n",
      "forward\n",
      "forward\n",
      "forward\n",
      "forward\n",
      "forward\n",
      "forward\n",
      "forward\n",
      "forward\n",
      "forward\n",
      "forward\n",
      "forward\n",
      "forward\n",
      "forward\n",
      "forward\n",
      "forward\n",
      "forward\n",
      "forward\n",
      "forward\n",
      "forward\n",
      "forward\n",
      "forward\n",
      "forward\n",
      "forward\n",
      "[30 21]\n"
     ]
    },
    {
     "data": {
      "image/png": "[encoded data removed]",
      "text/plain": [
       "<Figure size 288x288 with 1 Axes>"
      ]
     },
     "metadata": {
      "needs_background": "light"
     },
     "output_type": "display_data"
    },
    {
     "data": {
      "image/png": "[encoded data removed]",
      "text/plain": [
       "<Figure size 288x288 with 1 Axes>"
      ]
     },
     "metadata": {
      "needs_background": "light"
     },
     "output_type": "display_data"
    },
    {
     "data": {
      "image/png": "[encoded data removed]",
      "text/plain": [
       "<Figure size 288x288 with 1 Axes>"
      ]
     },
     "metadata": {
      "needs_background": "light"
     },
     "output_type": "display_data"
    }
   ],
   "source": [
    "while path_arr.shape[0] > 1:\n",
    "    plt.matshow(maze)\n",
    "    car_pos, path_arr, maze = move_instruction(path_arr, maze)\n",
    "    print(car_pos)\n",
    "    "
   ]
  },
  {
   "cell_type": "code",
   "execution_count": 54,
   "id": "eb28e324",
   "metadata": {},
   "outputs": [
    {
     "name": "stdout",
     "output_type": "stream",
     "text": [
      "forward\n",
      "forward\n",
      "forward\n",
      "forward\n",
      "forward\n",
      "forward\n",
      "forward\n",
      "forward\n",
      "forward\n",
      "forward\n",
      "forward\n",
      "forward\n",
      "forward\n",
      "forward\n",
      "forward\n",
      "forward\n",
      "forward\n",
      "forward\n",
      "forward\n",
      "forward\n",
      "forward\n",
      "forward\n",
      "forward\n",
      "forward\n",
      "forward\n",
      "forward\n",
      "forward\n",
      "forward\n",
      "forward\n",
      "forward\n",
      "turn right\n"
     ]
    }
   ],
   "source": [
    "car_pos, path_arr, maze = move_instruction(path_arr, maze)"
   ]
  },
  {
   "cell_type": "code",
   "execution_count": 55,
   "id": "e1a86eb9",
   "metadata": {},
   "outputs": [
    {
     "data": {
      "text/plain": [
       "array([50, 30], dtype=int64)"
      ]
     },
     "execution_count": 55,
     "metadata": {},
     "output_type": "execute_result"
    }
   ],
   "source": [
    "car_pos"
   ]
  },
  {
   "cell_type": "code",
   "execution_count": 56,
   "id": "4ab77c97",
   "metadata": {},
   "outputs": [
    {
     "data": {
      "text/plain": [
       "array([[70, 50],\n",
       "       [70, 51],\n",
       "       [70, 52],\n",
       "       [70, 53],\n",
       "       [70, 54],\n",
       "       [70, 55],\n",
       "       [70, 56],\n",
       "       [70, 57],\n",
       "       [70, 58],\n",
       "       [70, 59],\n",
       "       [70, 60],\n",
       "       [70, 61],\n",
       "       [70, 62],\n",
       "       [70, 63],\n",
       "       [70, 64],\n",
       "       [70, 65],\n",
       "       [70, 66],\n",
       "       [70, 67],\n",
       "       [70, 68],\n",
       "       [70, 69],\n",
       "       [70, 70],\n",
       "       [69, 70],\n",
       "       [68, 70],\n",
       "       [67, 70],\n",
       "       [66, 70],\n",
       "       [65, 70],\n",
       "       [64, 70],\n",
       "       [63, 70],\n",
       "       [62, 70],\n",
       "       [61, 70],\n",
       "       [60, 70],\n",
       "       [59, 70],\n",
       "       [58, 70],\n",
       "       [57, 70],\n",
       "       [56, 70],\n",
       "       [55, 70],\n",
       "       [54, 70],\n",
       "       [53, 70],\n",
       "       [52, 70],\n",
       "       [51, 70],\n",
       "       [50, 70],\n",
       "       [49, 70],\n",
       "       [48, 70],\n",
       "       [47, 70],\n",
       "       [46, 70],\n",
       "       [45, 70],\n",
       "       [44, 70],\n",
       "       [43, 70],\n",
       "       [42, 70],\n",
       "       [41, 70],\n",
       "       [40, 70],\n",
       "       [39, 70],\n",
       "       [38, 70],\n",
       "       [37, 70],\n",
       "       [36, 70],\n",
       "       [35, 70],\n",
       "       [34, 70],\n",
       "       [33, 70],\n",
       "       [32, 70],\n",
       "       [31, 70],\n",
       "       [30, 70],\n",
       "       [29, 70],\n",
       "       [28, 70],\n",
       "       [27, 70],\n",
       "       [26, 70],\n",
       "       [25, 70],\n",
       "       [24, 70],\n",
       "       [23, 70],\n",
       "       [22, 70],\n",
       "       [21, 70]], dtype=int64)"
      ]
     },
     "execution_count": 56,
     "metadata": {},
     "output_type": "execute_result"
    }
   ],
   "source": [
    "path_arr"
   ]
  },
  {
   "cell_type": "code",
   "execution_count": 57,
   "id": "b17b2176",
   "metadata": {},
   "outputs": [
    {
     "data": {
      "text/plain": [
       "<matplotlib.image.AxesImage at 0x265b6fc5b70>"
      ]
     },
     "execution_count": 57,
     "metadata": {},
     "output_type": "execute_result"
    },
    {
     "data": {
      "image/png": "[encoded data removed]",
      "text/plain": [
       "<Figure size 288x288 with 1 Axes>"
      ]
     },
     "metadata": {
      "needs_background": "light"
     },
     "output_type": "display_data"
    }
   ],
   "source": [
    "plt.matshow(maze)"
   ]
  },
  {
   "cell_type": "code",
   "execution_count": 58,
   "id": "1fac02f4",
   "metadata": {},
   "outputs": [
    {
     "name": "stdout",
     "output_type": "stream",
     "text": [
      "forward\n",
      "forward\n",
      "forward\n",
      "forward\n",
      "forward\n",
      "forward\n",
      "forward\n",
      "forward\n",
      "forward\n",
      "forward\n",
      "forward\n",
      "forward\n",
      "forward\n",
      "forward\n",
      "forward\n",
      "forward\n",
      "forward\n",
      "forward\n",
      "forward\n",
      "forward\n",
      "turn left\n"
     ]
    }
   ],
   "source": [
    "car_pos, path_arr, maze = move_instruction(path_arr, maze)"
   ]
  },
  {
   "cell_type": "code",
   "execution_count": 59,
   "id": "5f922041",
   "metadata": {},
   "outputs": [
    {
     "data": {
      "text/plain": [
       "array([70, 70], dtype=int64)"
      ]
     },
     "execution_count": 59,
     "metadata": {},
     "output_type": "execute_result"
    }
   ],
   "source": [
    "car_pos"
   ]
  },
  {
   "cell_type": "code",
   "execution_count": 60,
   "id": "a1d9db28",
   "metadata": {},
   "outputs": [
    {
     "data": {
      "text/plain": [
       "array([[30, 70],\n",
       "       [30, 69],\n",
       "       [30, 68],\n",
       "       [30, 67],\n",
       "       [30, 66],\n",
       "       [30, 65],\n",
       "       [30, 64],\n",
       "       [30, 63],\n",
       "       [30, 62],\n",
       "       [30, 61],\n",
       "       [30, 60],\n",
       "       [30, 59],\n",
       "       [30, 58],\n",
       "       [30, 57],\n",
       "       [30, 56],\n",
       "       [30, 55],\n",
       "       [30, 54],\n",
       "       [30, 53],\n",
       "       [30, 52],\n",
       "       [30, 51],\n",
       "       [30, 50],\n",
       "       [30, 49],\n",
       "       [30, 48],\n",
       "       [30, 47],\n",
       "       [30, 46],\n",
       "       [30, 45],\n",
       "       [30, 44],\n",
       "       [30, 43],\n",
       "       [30, 42],\n",
       "       [30, 41],\n",
       "       [30, 40],\n",
       "       [30, 39],\n",
       "       [30, 38],\n",
       "       [30, 37],\n",
       "       [30, 36],\n",
       "       [30, 35],\n",
       "       [30, 34],\n",
       "       [30, 33],\n",
       "       [30, 32],\n",
       "       [30, 31],\n",
       "       [30, 30],\n",
       "       [30, 29],\n",
       "       [30, 28],\n",
       "       [30, 27],\n",
       "       [30, 26],\n",
       "       [30, 25],\n",
       "       [30, 24],\n",
       "       [30, 23],\n",
       "       [30, 22],\n",
       "       [30, 21]], dtype=int64)"
      ]
     },
     "execution_count": 60,
     "metadata": {},
     "output_type": "execute_result"
    }
   ],
   "source": [
    "path_arr"
   ]
  },
  {
   "cell_type": "code",
   "execution_count": 61,
   "id": "709be8d8",
   "metadata": {},
   "outputs": [
    {
     "data": {
      "text/plain": [
       "<matplotlib.image.AxesImage at 0x265b702eac8>"
      ]
     },
     "execution_count": 61,
     "metadata": {},
     "output_type": "execute_result"
    },
    {
     "data": {
      "image/png": "[encoded data removed]",
      "text/plain": [
       "<Figure size 288x288 with 1 Axes>"
      ]
     },
     "metadata": {
      "needs_background": "light"
     },
     "output_type": "display_data"
    }
   ],
   "source": [
    "plt.matshow(maze)"
   ]
  },
  {
   "cell_type": "code",
   "execution_count": 62,
   "id": "38b80465",
   "metadata": {},
   "outputs": [
    {
     "name": "stdout",
     "output_type": "stream",
     "text": [
      "forward\n",
      "forward\n",
      "forward\n",
      "forward\n",
      "forward\n",
      "forward\n",
      "forward\n",
      "forward\n",
      "forward\n",
      "forward\n",
      "forward\n",
      "forward\n",
      "forward\n",
      "forward\n",
      "forward\n",
      "forward\n",
      "forward\n",
      "forward\n",
      "forward\n",
      "forward\n",
      "forward\n",
      "forward\n",
      "forward\n",
      "forward\n",
      "forward\n",
      "forward\n",
      "forward\n",
      "forward\n",
      "forward\n",
      "forward\n",
      "forward\n",
      "forward\n",
      "forward\n",
      "forward\n",
      "forward\n",
      "forward\n",
      "forward\n",
      "forward\n",
      "forward\n",
      "forward\n",
      "forward\n",
      "forward\n",
      "forward\n",
      "forward\n",
      "forward\n",
      "forward\n",
      "forward\n",
      "forward\n",
      "forward\n"
     ]
    }
   ],
   "source": [
    "car_pos, path_arr, maze = move_instruction(path_arr, maze)"
   ]
  },
  {
   "cell_type": "code",
   "execution_count": 63,
   "id": "5e9c7365",
   "metadata": {},
   "outputs": [
    {
     "data": {
      "text/plain": [
       "array([30, 21], dtype=int64)"
      ]
     },
     "execution_count": 63,
     "metadata": {},
     "output_type": "execute_result"
    }
   ],
   "source": [
    "car_pos"
   ]
  },
  {
   "cell_type": "code",
   "execution_count": 48,
   "id": "88eeb9f8",
   "metadata": {},
   "outputs": [
    {
     "data": {
      "text/plain": [
       "array([[79, 30]], dtype=int64)"
      ]
     },
     "execution_count": 48,
     "metadata": {},
     "output_type": "execute_result"
    }
   ],
   "source": [
    "path_arr"
   ]
  },
  {
   "cell_type": "code",
   "execution_count": null,
   "id": "74cbcdb1",
   "metadata": {},
   "outputs": [],
   "source": [
    "#update_location(path_arr[30])\n",
    "#update_path(path_arr)"
   ]
  },
  {
   "cell_type": "code",
   "execution_count": null,
   "id": "577168dd",
   "metadata": {},
   "outputs": [],
   "source": [
    "path_arr"
   ]
  },
  {
   "cell_type": "code",
   "execution_count": null,
   "id": "e60991d0",
   "metadata": {},
   "outputs": [],
   "source": []
  }
 ],
 "metadata": {
  "kernelspec": {
   "display_name": "Python 3 (ipykernel)",
   "language": "python",
   "name": "python3"
  },
  "language_info": {
   "codemirror_mode": {
    "name": "ipython",
    "version": 3
   },
   "file_extension": ".py",
   "mimetype": "text/x-python",
   "name": "python",
   "nbconvert_exporter": "python",
   "pygments_lexer": "ipython3",
   "version": "3.7.0"
  }
 },
 "nbformat": 4,
 "nbformat_minor": 5
}
